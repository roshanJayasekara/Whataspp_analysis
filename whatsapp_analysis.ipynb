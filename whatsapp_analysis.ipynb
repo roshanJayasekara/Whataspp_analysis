{
  "nbformat": 4,
  "nbformat_minor": 0,
  "metadata": {
    "colab": {
      "name": "whatsapp_analysis.ipynb",
      "provenance": [],
      "mount_file_id": "1AMNxxh7UTeAhq-xYcW9zvWqnWwtfGZdX",
      "authorship_tag": "ABX9TyMurn8Bz+m1G3dPAlNe6bVs",
      "include_colab_link": true
    },
    "kernelspec": {
      "name": "python3",
      "display_name": "Python 3"
    }
  },
  "cells": [
    {
      "cell_type": "markdown",
      "metadata": {
        "id": "view-in-github",
        "colab_type": "text"
      },
      "source": [
        "<a href=\"https://colab.research.google.com/github/roshanJayasekara/Whataspp_analysis/blob/main/whatsapp_analysis.ipynb\" target=\"_parent\"><img src=\"https://colab.research.google.com/assets/colab-badge.svg\" alt=\"Open In Colab\"/></a>"
      ]
    },
    {
      "cell_type": "markdown",
      "metadata": {
        "id": "qZUJ-X_KE-Zd"
      },
      "source": [
        "# Whataspp Group chat analysis\n",
        "\n"
      ]
    },
    {
      "cell_type": "markdown",
      "metadata": {
        "id": "f3aQqkocFGW8"
      },
      "source": [
        "## importing packages"
      ]
    },
    {
      "cell_type": "code",
      "metadata": {
        "id": "My1J57tTjrjl"
      },
      "source": [
        "import pandas as pd\n",
        "import numpy as np\n",
        "import matplotlib.pyplot as plt\n",
        "import seaborn as sns"
      ],
      "execution_count": null,
      "outputs": []
    },
    {
      "cell_type": "markdown",
      "metadata": {
        "id": "WOtth0SnFLjl"
      },
      "source": [
        "## Reading the data and Info of the data file"
      ]
    },
    {
      "cell_type": "code",
      "metadata": {
        "id": "1LOLkEOgkiSf"
      },
      "source": [
        "chat=pd.read_csv(\"/content/drive/My Drive/Whatsapp/WhatsApp Chat with TLM FAMILY 🥳❤️😘.txt\",\n",
        "                 error_bad_lines=False, delimiter = \"\\t\", header = None, names = ['text']\n",
        "                 )"
      ],
      "execution_count": null,
      "outputs": []
    },
    {
      "cell_type": "code",
      "metadata": {
        "id": "bmM4VG3Gozju",
        "colab": {
          "base_uri": "https://localhost:8080/"
        },
        "outputId": "aef7efda-b2af-42ae-e59b-e9e1f7a18761"
      },
      "source": [
        "chat.info()"
      ],
      "execution_count": null,
      "outputs": [
        {
          "output_type": "stream",
          "text": [
            "<class 'pandas.core.frame.DataFrame'>\n",
            "RangeIndex: 43583 entries, 0 to 43582\n",
            "Data columns (total 1 columns):\n",
            " #   Column  Non-Null Count  Dtype \n",
            "---  ------  --------------  ----- \n",
            " 0   text    43583 non-null  object\n",
            "dtypes: object(1)\n",
            "memory usage: 340.6+ KB\n"
          ],
          "name": "stdout"
        }
      ]
    },
    {
      "cell_type": "markdown",
      "metadata": {
        "id": "_rCduxviFU1e"
      },
      "source": [
        "## Data preprocessing"
      ]
    },
    {
      "cell_type": "code",
      "metadata": {
        "id": "AYIaY5tinYXj",
        "colab": {
          "base_uri": "https://localhost:8080/",
          "height": 195
        },
        "outputId": "78290857-ca33-4688-ad3e-e49cee5f2dc1"
      },
      "source": [
        "chat[['datetime_str','text_2']] = chat[\"text\"].str.split(\" - \", 1, expand=True)\n",
        "chat[\"datetime\"] = pd.to_datetime(chat[\"datetime_str\"],errors='coerce')\n",
        "chat.drop([\"text\",\"datetime_str\"],axis=1,inplace=True)\n",
        "chat.head()"
      ],
      "execution_count": null,
      "outputs": [
        {
          "output_type": "execute_result",
          "data": {
            "text/html": [
              "<div>\n",
              "<style scoped>\n",
              "    .dataframe tbody tr th:only-of-type {\n",
              "        vertical-align: middle;\n",
              "    }\n",
              "\n",
              "    .dataframe tbody tr th {\n",
              "        vertical-align: top;\n",
              "    }\n",
              "\n",
              "    .dataframe thead th {\n",
              "        text-align: right;\n",
              "    }\n",
              "</style>\n",
              "<table border=\"1\" class=\"dataframe\">\n",
              "  <thead>\n",
              "    <tr style=\"text-align: right;\">\n",
              "      <th></th>\n",
              "      <th>text_2</th>\n",
              "      <th>datetime</th>\n",
              "    </tr>\n",
              "  </thead>\n",
              "  <tbody>\n",
              "    <tr>\n",
              "      <th>0</th>\n",
              "      <td>Gayasha Tlm: Puchchala ewarai</td>\n",
              "      <td>2020-03-31 21:39:00</td>\n",
              "    </tr>\n",
              "    <tr>\n",
              "      <th>1</th>\n",
              "      <td>Ovini: Eka hondai ehenam</td>\n",
              "      <td>2020-03-31 21:44:00</td>\n",
              "    </tr>\n",
              "    <tr>\n",
              "      <th>2</th>\n",
              "      <td>Ovini: Rauf Hakeem ehemath objections dala thbune</td>\n",
              "      <td>2020-03-31 21:45:00</td>\n",
              "    </tr>\n",
              "    <tr>\n",
              "      <th>3</th>\n",
              "      <td>Buddhi: News wala pennuwa</td>\n",
              "      <td>2020-03-31 21:50:00</td>\n",
              "    </tr>\n",
              "    <tr>\n",
              "      <th>4</th>\n",
              "      <td>Buddhi: ⭕ *රතු නිවේදනයකි.*⭕</td>\n",
              "      <td>2020-03-31 21:54:00</td>\n",
              "    </tr>\n",
              "  </tbody>\n",
              "</table>\n",
              "</div>"
            ],
            "text/plain": [
              "                                              text_2            datetime\n",
              "0                      Gayasha Tlm: Puchchala ewarai 2020-03-31 21:39:00\n",
              "1                           Ovini: Eka hondai ehenam 2020-03-31 21:44:00\n",
              "2  Ovini: Rauf Hakeem ehemath objections dala thbune 2020-03-31 21:45:00\n",
              "3                          Buddhi: News wala pennuwa 2020-03-31 21:50:00\n",
              "4                        Buddhi: ⭕ *රතු නිවේදනයකි.*⭕ 2020-03-31 21:54:00"
            ]
          },
          "metadata": {
            "tags": []
          },
          "execution_count": 40
        }
      ]
    },
    {
      "cell_type": "code",
      "metadata": {
        "id": "jwnAqh65p1C2",
        "colab": {
          "base_uri": "https://localhost:8080/"
        },
        "outputId": "cabbffb3-12e3-4890-8bd6-4a8883349c9c"
      },
      "source": [
        "chat.shape"
      ],
      "execution_count": null,
      "outputs": [
        {
          "output_type": "execute_result",
          "data": {
            "text/plain": [
              "(43583, 2)"
            ]
          },
          "metadata": {
            "tags": []
          },
          "execution_count": 42
        }
      ]
    },
    {
      "cell_type": "code",
      "metadata": {
        "id": "k24kdsxYlcKz"
      },
      "source": [
        "chat.dropna(subset=['datetime'],inplace=True)"
      ],
      "execution_count": null,
      "outputs": []
    },
    {
      "cell_type": "code",
      "metadata": {
        "id": "6Z9lLGN1mqll",
        "colab": {
          "base_uri": "https://localhost:8080/"
        },
        "outputId": "e97495e1-9dcb-4d4f-c51b-8f692a59939b"
      },
      "source": [
        "chat.shape"
      ],
      "execution_count": null,
      "outputs": [
        {
          "output_type": "execute_result",
          "data": {
            "text/plain": [
              "(40003, 2)"
            ]
          },
          "metadata": {
            "tags": []
          },
          "execution_count": 44
        }
      ]
    },
    {
      "cell_type": "code",
      "metadata": {
        "id": "DCUVGURWp-nK"
      },
      "source": [
        "chat[['sender','text_message']] = chat['text_2'].str.split(': ', 1, expand=True)\n",
        "chat.dropna(subset=['text_message'],inplace=True)\n",
        "chat.drop(columns = ['text_2'],inplace=True)"
      ],
      "execution_count": null,
      "outputs": []
    },
    {
      "cell_type": "code",
      "metadata": {
        "id": "s9vUuKaiqQQN",
        "colab": {
          "base_uri": "https://localhost:8080/",
          "height": 195
        },
        "outputId": "8eb09e33-2c5c-415d-ffd0-c398865f3429"
      },
      "source": [
        "chat.head()"
      ],
      "execution_count": null,
      "outputs": [
        {
          "output_type": "execute_result",
          "data": {
            "text/html": [
              "<div>\n",
              "<style scoped>\n",
              "    .dataframe tbody tr th:only-of-type {\n",
              "        vertical-align: middle;\n",
              "    }\n",
              "\n",
              "    .dataframe tbody tr th {\n",
              "        vertical-align: top;\n",
              "    }\n",
              "\n",
              "    .dataframe thead th {\n",
              "        text-align: right;\n",
              "    }\n",
              "</style>\n",
              "<table border=\"1\" class=\"dataframe\">\n",
              "  <thead>\n",
              "    <tr style=\"text-align: right;\">\n",
              "      <th></th>\n",
              "      <th>datetime</th>\n",
              "      <th>sender</th>\n",
              "      <th>text_message</th>\n",
              "    </tr>\n",
              "  </thead>\n",
              "  <tbody>\n",
              "    <tr>\n",
              "      <th>0</th>\n",
              "      <td>2020-03-31 21:39:00</td>\n",
              "      <td>Gayasha Tlm</td>\n",
              "      <td>Puchchala ewarai</td>\n",
              "    </tr>\n",
              "    <tr>\n",
              "      <th>1</th>\n",
              "      <td>2020-03-31 21:44:00</td>\n",
              "      <td>Ovini</td>\n",
              "      <td>Eka hondai ehenam</td>\n",
              "    </tr>\n",
              "    <tr>\n",
              "      <th>2</th>\n",
              "      <td>2020-03-31 21:45:00</td>\n",
              "      <td>Ovini</td>\n",
              "      <td>Rauf Hakeem ehemath objections dala thbune</td>\n",
              "    </tr>\n",
              "    <tr>\n",
              "      <th>3</th>\n",
              "      <td>2020-03-31 21:50:00</td>\n",
              "      <td>Buddhi</td>\n",
              "      <td>News wala pennuwa</td>\n",
              "    </tr>\n",
              "    <tr>\n",
              "      <th>4</th>\n",
              "      <td>2020-03-31 21:54:00</td>\n",
              "      <td>Buddhi</td>\n",
              "      <td>⭕ *රතු නිවේදනයකි.*⭕</td>\n",
              "    </tr>\n",
              "  </tbody>\n",
              "</table>\n",
              "</div>"
            ],
            "text/plain": [
              "             datetime       sender                                text_message\n",
              "0 2020-03-31 21:39:00  Gayasha Tlm                            Puchchala ewarai\n",
              "1 2020-03-31 21:44:00        Ovini                           Eka hondai ehenam\n",
              "2 2020-03-31 21:45:00        Ovini  Rauf Hakeem ehemath objections dala thbune\n",
              "3 2020-03-31 21:50:00       Buddhi                           News wala pennuwa\n",
              "4 2020-03-31 21:54:00       Buddhi                         ⭕ *රතු නිවේදනයකි.*⭕"
            ]
          },
          "metadata": {
            "tags": []
          },
          "execution_count": 48
        }
      ]
    },
    {
      "cell_type": "code",
      "metadata": {
        "id": "2ySzO4_8q0b2",
        "colab": {
          "base_uri": "https://localhost:8080/"
        },
        "outputId": "1b0b857b-9a4c-460b-e3a2-3e18cc32e80f"
      },
      "source": [
        "chat['datetime'].dt.dayofweek"
      ],
      "execution_count": null,
      "outputs": [
        {
          "output_type": "execute_result",
          "data": {
            "text/plain": [
              "0        1\n",
              "1        1\n",
              "2        1\n",
              "3        1\n",
              "4        1\n",
              "        ..\n",
              "43578    3\n",
              "43579    3\n",
              "43580    3\n",
              "43581    3\n",
              "43582    3\n",
              "Name: datetime, Length: 39958, dtype: int64"
            ]
          },
          "metadata": {
            "tags": []
          },
          "execution_count": 49
        }
      ]
    },
    {
      "cell_type": "markdown",
      "metadata": {
        "id": "tGc_Sj1uFdOj"
      },
      "source": [
        "## Frequencey of Massages with Respect to day of the week and Time"
      ]
    },
    {
      "cell_type": "code",
      "metadata": {
        "id": "1W8JG0feqXkp",
        "colab": {
          "base_uri": "https://localhost:8080/",
          "height": 405
        },
        "outputId": "6e46d478-49e7-4d89-bbd1-f6adbfd8e691"
      },
      "source": [
        "# Create new fields to use in heatmap\n",
        "chat['day_of_week'] = chat['datetime'].dt.dayofweek + 1\n",
        "chat['hour_of_day'] = chat['datetime'].dt.hour\n",
        "\n",
        "# Create new chatframe containing chat counts\n",
        "heatmap_chat = chat.groupby(['day_of_week', 'hour_of_day']).size()\n",
        "heatmap_chat = heatmap_chat.unstack()\n",
        "\n",
        "# Create heatmap\n",
        "plt.figure(figsize=(24,7))\n",
        "plt.pcolor(heatmap_chat, cmap='Reds')\n",
        "plt.xlabel(\"Hour of Day\")\n",
        "plt.ylabel(\"Day of Week\")\n",
        "plt.colorbar()\n",
        "plt.show()"
      ],
      "execution_count": null,
      "outputs": [
        {
          "output_type": "display_data",
          "data": {
            "image/png": "[encoded data removed]",
            "text/plain": [
              "<Figure size 1728x504 with 2 Axes>"
            ]
          },
          "metadata": {
            "tags": [],
            "needs_background": "light"
          }
        }
      ]
    },
    {
      "cell_type": "markdown",
      "metadata": {
        "id": "3D1lIcnFFqqH"
      },
      "source": [
        "## Massage count vs Users"
      ]
    },
    {
      "cell_type": "code",
      "metadata": {
        "id": "lpF87XqIrFmx",
        "colab": {
          "base_uri": "https://localhost:8080/",
          "height": 587
        },
        "outputId": "c9a64660-c583-428e-94e5-81ac36ab1263"
      },
      "source": [
        "sender_count_series = chat.groupby(['sender']).size().sort_values(ascending=False)\n",
        "sender_count_series.plot(kind=\"bar\",figsize=(15,7),color=[\"g\"])"
      ],
      "execution_count": null,
      "outputs": [
        {
          "output_type": "execute_result",
          "data": {
            "text/plain": [
              "<matplotlib.axes._subplots.AxesSubplot at 0x7faf80dda400>"
            ]
          },
          "metadata": {
            "tags": []
          },
          "execution_count": 62
        },
        {
          "output_type": "display_data",
          "data": {
            "image/png": "[encoded data removed]",
            "text/plain": [
              "<Figure size 1080x504 with 1 Axes>"
            ]
          },
          "metadata": {
            "tags": [],
            "needs_background": "light"
          }
        }
      ]
    },
    {
      "cell_type": "code",
      "metadata": {
        "id": "xW-7llycrjpz",
        "colab": {
          "base_uri": "https://localhost:8080/",
          "height": 195
        },
        "outputId": "fc34c51c-b6b9-4099-cb67-ac44f9d2b196"
      },
      "source": [
        "chat.head()"
      ],
      "execution_count": null,
      "outputs": [
        {
          "output_type": "execute_result",
          "data": {
            "text/html": [
              "<div>\n",
              "<style scoped>\n",
              "    .dataframe tbody tr th:only-of-type {\n",
              "        vertical-align: middle;\n",
              "    }\n",
              "\n",
              "    .dataframe tbody tr th {\n",
              "        vertical-align: top;\n",
              "    }\n",
              "\n",
              "    .dataframe thead th {\n",
              "        text-align: right;\n",
              "    }\n",
              "</style>\n",
              "<table border=\"1\" class=\"dataframe\">\n",
              "  <thead>\n",
              "    <tr style=\"text-align: right;\">\n",
              "      <th></th>\n",
              "      <th>datetime</th>\n",
              "      <th>sender</th>\n",
              "      <th>text_message</th>\n",
              "      <th>day_of_week</th>\n",
              "      <th>hour_of_day</th>\n",
              "    </tr>\n",
              "  </thead>\n",
              "  <tbody>\n",
              "    <tr>\n",
              "      <th>0</th>\n",
              "      <td>2020-03-31 21:39:00</td>\n",
              "      <td>Gayasha Tlm</td>\n",
              "      <td>Puchchala ewarai</td>\n",
              "      <td>2</td>\n",
              "      <td>21</td>\n",
              "    </tr>\n",
              "    <tr>\n",
              "      <th>1</th>\n",
              "      <td>2020-03-31 21:44:00</td>\n",
              "      <td>Ovini</td>\n",
              "      <td>Eka hondai ehenam</td>\n",
              "      <td>2</td>\n",
              "      <td>21</td>\n",
              "    </tr>\n",
              "    <tr>\n",
              "      <th>2</th>\n",
              "      <td>2020-03-31 21:45:00</td>\n",
              "      <td>Ovini</td>\n",
              "      <td>Rauf Hakeem ehemath objections dala thbune</td>\n",
              "      <td>2</td>\n",
              "      <td>21</td>\n",
              "    </tr>\n",
              "    <tr>\n",
              "      <th>3</th>\n",
              "      <td>2020-03-31 21:50:00</td>\n",
              "      <td>Buddhi</td>\n",
              "      <td>News wala pennuwa</td>\n",
              "      <td>2</td>\n",
              "      <td>21</td>\n",
              "    </tr>\n",
              "    <tr>\n",
              "      <th>4</th>\n",
              "      <td>2020-03-31 21:54:00</td>\n",
              "      <td>Buddhi</td>\n",
              "      <td>⭕ *රතු නිවේදනයකි.*⭕</td>\n",
              "      <td>2</td>\n",
              "      <td>21</td>\n",
              "    </tr>\n",
              "  </tbody>\n",
              "</table>\n",
              "</div>"
            ],
            "text/plain": [
              "             datetime       sender  ... day_of_week  hour_of_day\n",
              "0 2020-03-31 21:39:00  Gayasha Tlm  ...           2           21\n",
              "1 2020-03-31 21:44:00        Ovini  ...           2           21\n",
              "2 2020-03-31 21:45:00        Ovini  ...           2           21\n",
              "3 2020-03-31 21:50:00       Buddhi  ...           2           21\n",
              "4 2020-03-31 21:54:00       Buddhi  ...           2           21\n",
              "\n",
              "[5 rows x 5 columns]"
            ]
          },
          "metadata": {
            "tags": []
          },
          "execution_count": 64
        }
      ]
    },
    {
      "cell_type": "markdown",
      "metadata": {
        "id": "QwrUKVGQF5ZR"
      },
      "source": [
        "## Most used Words"
      ]
    },
    {
      "cell_type": "code",
      "metadata": {
        "id": "zJU1TMJWsqar",
        "colab": {
          "base_uri": "https://localhost:8080/",
          "height": 343
        },
        "outputId": "6d1c6021-2099-4b77-8062-c073cf2103e7"
      },
      "source": [
        "## Create chatFrame with all words used split by sender\n",
        "# Filter out 'Media Omitted' messages\n",
        "chat_texts = chat[~chat['text_message'].str.contains('omitted')]\n",
        "\n",
        "# Create empty chatFrame to use for the word count\n",
        "words = pd.DataFrame(columns=['sender','words'])\n",
        "\n",
        "# Loop through all messages in the chatFrame\n",
        "for sender, message in zip(chat_texts.sender, chat_texts.text_message):\n",
        " \n",
        "  # Split out each word in each message\n",
        "  message_split = message.split()\n",
        "  for word in message_split:\n",
        " \n",
        "    # Add each word to the chatFrame\n",
        "    words = words.append({'sender' : sender , 'words' : word.lower()}, ignore_index=True)\n",
        "\n",
        "# Remove punctuation from the start and end of words\n",
        "words['words'] = words['words'].str.replace('(^\\W)|(\\W$)','')\n",
        "\n",
        "# Create list of 'non-words' that we don't care about\n",
        "non_words = ['the','to','a','i','you','it','and','for','be','that','in','of','have','on','at','is','as','or','we','if','so','']\n",
        "\n",
        "# Filter out this list of 'non-words' from each set of words\n",
        "words_filtered = words[~words['words'].isin(non_words)]\n",
        "\n",
        "# Create word counts as a series\n",
        "word_count_total_series = words_filtered.groupby(['words']).size().sort_values(ascending=False)\n",
        "\n",
        "# Create word counts series as a chatFrame\n",
        "word_count_total = pd.DataFrame(word_count_total_series)\n",
        "\n",
        "# Reset index in order to name columns correctly\n",
        "word_count_total = word_count_total.reset_index()\n",
        "word_count_total.columns = ['words', 'count']\n",
        "\n",
        "# Display top 10 words used\n",
        "word_count_total.head(10)"
      ],
      "execution_count": null,
      "outputs": [
        {
          "output_type": "execute_result",
          "data": {
            "text/html": [
              "<div>\n",
              "<style scoped>\n",
              "    .dataframe tbody tr th:only-of-type {\n",
              "        vertical-align: middle;\n",
              "    }\n",
              "\n",
              "    .dataframe tbody tr th {\n",
              "        vertical-align: top;\n",
              "    }\n",
              "\n",
              "    .dataframe thead th {\n",
              "        text-align: right;\n",
              "    }\n",
              "</style>\n",
              "<table border=\"1\" class=\"dataframe\">\n",
              "  <thead>\n",
              "    <tr style=\"text-align: right;\">\n",
              "      <th></th>\n",
              "      <th>words</th>\n",
              "      <th>count</th>\n",
              "    </tr>\n",
              "  </thead>\n",
              "  <tbody>\n",
              "    <tr>\n",
              "      <th>0</th>\n",
              "      <td>eka</td>\n",
              "      <td>2137</td>\n",
              "    </tr>\n",
              "    <tr>\n",
              "      <th>1</th>\n",
              "      <td>na</td>\n",
              "      <td>2107</td>\n",
              "    </tr>\n",
              "    <tr>\n",
              "      <th>2</th>\n",
              "      <td>ne</td>\n",
              "      <td>932</td>\n",
              "    </tr>\n",
              "    <tr>\n",
              "      <th>3</th>\n",
              "      <td>eke</td>\n",
              "      <td>919</td>\n",
              "    </tr>\n",
              "    <tr>\n",
              "      <th>4</th>\n",
              "      <td>happy</td>\n",
              "      <td>887</td>\n",
              "    </tr>\n",
              "    <tr>\n",
              "      <th>5</th>\n",
              "      <td>me</td>\n",
              "      <td>839</td>\n",
              "    </tr>\n",
              "    <tr>\n",
              "      <th>6</th>\n",
              "      <td>ow</td>\n",
              "      <td>819</td>\n",
              "    </tr>\n",
              "    <tr>\n",
              "      <th>7</th>\n",
              "      <td>ekak</td>\n",
              "      <td>815</td>\n",
              "    </tr>\n",
              "    <tr>\n",
              "      <th>8</th>\n",
              "      <td>birthday</td>\n",
              "      <td>812</td>\n",
              "    </tr>\n",
              "    <tr>\n",
              "      <th>9</th>\n",
              "      <td>wage</td>\n",
              "      <td>573</td>\n",
              "    </tr>\n",
              "  </tbody>\n",
              "</table>\n",
              "</div>"
            ],
            "text/plain": [
              "      words  count\n",
              "0       eka   2137\n",
              "1        na   2107\n",
              "2        ne    932\n",
              "3       eke    919\n",
              "4     happy    887\n",
              "5        me    839\n",
              "6        ow    819\n",
              "7      ekak    815\n",
              "8  birthday    812\n",
              "9      wage    573"
            ]
          },
          "metadata": {
            "tags": []
          },
          "execution_count": 67
        }
      ]
    }
  ]
}